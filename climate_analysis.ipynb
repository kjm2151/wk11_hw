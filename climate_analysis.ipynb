{
 "cells": [
  {
   "cell_type": "code",
   "execution_count": 3,
   "metadata": {},
   "outputs": [],
   "source": [
    "## PART III"
   ]
  },
  {
   "cell_type": "code",
   "execution_count": 4,
   "metadata": {
    "collapsed": true
   },
   "outputs": [],
   "source": [
    "# Import dependencies \n",
    "import sqlalchemy\n",
    "from sqlalchemy.ext.automap import automap_base\n",
    "from sqlalchemy.orm import Session\n",
    "from sqlalchemy import create_engine, inspect, func\n",
    "import datetime as dt\n",
    "import pandas as pd\n",
    "import matplotlib\n",
    "from matplotlib import style\n",
    "style.use('seaborn')\n",
    "import matplotlib.pyplot as plt\n",
    "from sqlalchemy import Column, Integer, String, Float, Text, ForeignKey\n",
    "import numpy as np"
   ]
  },
  {
   "cell_type": "code",
   "execution_count": 6,
   "metadata": {},
   "outputs": [
    {
     "data": {
      "text/plain": [
       "['measurements', 'station']"
      ]
     },
     "execution_count": 6,
     "metadata": {},
     "output_type": "execute_result"
    }
   ],
   "source": [
    "# Create Engine\n",
    "engine = create_engine(\"sqlite:///hawaii.sqlite\")\n",
    "Base = automap_base()\n",
    "Base.prepare(engine, reflect=True)\n",
    "Base.classes.keys()"
   ]
  },
  {
   "cell_type": "code",
   "execution_count": 7,
   "metadata": {},
   "outputs": [
    {
     "data": {
      "text/plain": [
       "[(1, 'USC00519397', '2010-01-01', 0.08, 65),\n",
       " (2, 'USC00519397', '2010-01-02', 0.0, 63),\n",
       " (3, 'USC00519397', '2010-01-03', 0.0, 74),\n",
       " (4, 'USC00519397', '2010-01-04', 0.0, 76),\n",
       " (5, 'USC00519397', '2010-01-07', 0.06, 70),\n",
       " (6, 'USC00519397', '2010-01-08', 0.0, 64),\n",
       " (7, 'USC00519397', '2010-01-09', 0.0, 68),\n",
       " (8, 'USC00519397', '2010-01-10', 0.0, 73),\n",
       " (9, 'USC00519397', '2010-01-11', 0.01, 64),\n",
       " (10, 'USC00519397', '2010-01-12', 0.0, 61)]"
      ]
     },
     "execution_count": 7,
     "metadata": {},
     "output_type": "execute_result"
    }
   ],
   "source": [
    "engine.execute('SELECT * FROM measurements LIMIT 10').fetchall()"
   ]
  },
  {
   "cell_type": "code",
   "execution_count": 8,
   "metadata": {
    "collapsed": true
   },
   "outputs": [],
   "source": [
    "# Reflect Database into ORM class\n",
    "Station = Base.classes.station\n",
    "Measurements = Base.classes.measurements"
   ]
  },
  {
   "cell_type": "code",
   "execution_count": 9,
   "metadata": {
    "collapsed": true
   },
   "outputs": [],
   "source": [
    "# Start a session to query the database\n",
    "session = Session(engine)"
   ]
  },
  {
   "cell_type": "code",
   "execution_count": 10,
   "metadata": {},
   "outputs": [
    {
     "data": {
      "text/plain": [
       "[('2017-08-23',)]"
      ]
     },
     "execution_count": 10,
     "metadata": {},
     "output_type": "execute_result"
    }
   ],
   "source": [
    "engine.execute('SELECT max(date) FROM measurements').fetchall()"
   ]
  },
  {
   "cell_type": "code",
   "execution_count": 15,
   "metadata": {},
   "outputs": [
    {
     "data": {
      "text/plain": [
       "datetime.date(2016, 8, 23)"
      ]
     },
     "execution_count": 15,
     "metadata": {},
     "output_type": "execute_result"
    }
   ],
   "source": [
    "last_year_dt = dt.date(2017, 8, 23) - dt.timedelta(days=365)\n",
    "last_year_dt"
   ]
  },
  {
   "cell_type": "code",
   "execution_count": 40,
   "metadata": {},
   "outputs": [
    {
     "data": {
      "text/html": [
       "<div>\n",
       "<style>\n",
       "    .dataframe thead tr:only-child th {\n",
       "        text-align: right;\n",
       "    }\n",
       "\n",
       "    .dataframe thead th {\n",
       "        text-align: left;\n",
       "    }\n",
       "\n",
       "    .dataframe tbody tr th {\n",
       "        vertical-align: top;\n",
       "    }\n",
       "</style>\n",
       "<table border=\"1\" class=\"dataframe\">\n",
       "  <thead>\n",
       "    <tr style=\"text-align: right;\">\n",
       "      <th></th>\n",
       "      <th>date</th>\n",
       "      <th>prcp</th>\n",
       "    </tr>\n",
       "  </thead>\n",
       "  <tbody>\n",
       "    <tr>\n",
       "      <th>0</th>\n",
       "      <td>2016-08-24</td>\n",
       "      <td>0.08</td>\n",
       "    </tr>\n",
       "    <tr>\n",
       "      <th>1</th>\n",
       "      <td>2016-08-24</td>\n",
       "      <td>2.15</td>\n",
       "    </tr>\n",
       "    <tr>\n",
       "      <th>2</th>\n",
       "      <td>2016-08-24</td>\n",
       "      <td>2.28</td>\n",
       "    </tr>\n",
       "    <tr>\n",
       "      <th>3</th>\n",
       "      <td>2016-08-24</td>\n",
       "      <td>1.22</td>\n",
       "    </tr>\n",
       "    <tr>\n",
       "      <th>4</th>\n",
       "      <td>2016-08-24</td>\n",
       "      <td>2.15</td>\n",
       "    </tr>\n",
       "  </tbody>\n",
       "</table>\n",
       "</div>"
      ],
      "text/plain": [
       "         date  prcp\n",
       "0  2016-08-24  0.08\n",
       "1  2016-08-24  2.15\n",
       "2  2016-08-24  2.28\n",
       "3  2016-08-24  1.22\n",
       "4  2016-08-24  2.15"
      ]
     },
     "execution_count": 40,
     "metadata": {},
     "output_type": "execute_result"
    }
   ],
   "source": [
    "measurement_since_last_year = session.query(Measurements.date, Measurements.prcp).filter(Measurements.date > last_year_dt).\\\n",
    "    order_by(Measurements.date).all()\n",
    "prcp_df = pd.DataFrame(measurement_since_last_year)\n",
    "prcp_df.head()"
   ]
  },
  {
   "cell_type": "code",
   "execution_count": 42,
   "metadata": {},
   "outputs": [
    {
     "data": {
      "text/html": [
       "<div>\n",
       "<style>\n",
       "    .dataframe thead tr:only-child th {\n",
       "        text-align: right;\n",
       "    }\n",
       "\n",
       "    .dataframe thead th {\n",
       "        text-align: left;\n",
       "    }\n",
       "\n",
       "    .dataframe tbody tr th {\n",
       "        vertical-align: top;\n",
       "    }\n",
       "</style>\n",
       "<table border=\"1\" class=\"dataframe\">\n",
       "  <thead>\n",
       "    <tr style=\"text-align: right;\">\n",
       "      <th></th>\n",
       "      <th>prcp</th>\n",
       "    </tr>\n",
       "    <tr>\n",
       "      <th>date</th>\n",
       "      <th></th>\n",
       "    </tr>\n",
       "  </thead>\n",
       "  <tbody>\n",
       "    <tr>\n",
       "      <th>2016-08-24</th>\n",
       "      <td>0.08</td>\n",
       "    </tr>\n",
       "    <tr>\n",
       "      <th>2016-08-24</th>\n",
       "      <td>2.15</td>\n",
       "    </tr>\n",
       "    <tr>\n",
       "      <th>2016-08-24</th>\n",
       "      <td>2.28</td>\n",
       "    </tr>\n",
       "    <tr>\n",
       "      <th>2016-08-24</th>\n",
       "      <td>1.22</td>\n",
       "    </tr>\n",
       "    <tr>\n",
       "      <th>2016-08-24</th>\n",
       "      <td>2.15</td>\n",
       "    </tr>\n",
       "  </tbody>\n",
       "</table>\n",
       "</div>"
      ],
      "text/plain": [
       "            prcp\n",
       "date            \n",
       "2016-08-24  0.08\n",
       "2016-08-24  2.15\n",
       "2016-08-24  2.28\n",
       "2016-08-24  1.22\n",
       "2016-08-24  2.15"
      ]
     },
     "execution_count": 42,
     "metadata": {},
     "output_type": "execute_result"
    }
   ],
   "source": [
    "prcp_df.set_index('date').head(5)\n"
   ]
  },
  {
   "cell_type": "code",
   "execution_count": 43,
   "metadata": {},
   "outputs": [
    {
     "data": {
      "image/png": "[encoded data removed]",
      "text/plain": [
       "<matplotlib.figure.Figure at 0xc3cc9e8>"
      ]
     },
     "metadata": {},
     "output_type": "display_data"
    }
   ],
   "source": [
    "# plot the dataframe\n",
    "prcp_df.plot('date', 'prcp')\n",
    "plt.title(\"Precipitation Analysis\")\n",
    "plt.xlabel(\"Date\")\n",
    "plt.ylabel(\"Prcp in Inches\")\n",
    "plt.xticks(rotation=45)\n",
    "plt.show()"
   ]
  },
  {
   "cell_type": "code",
   "execution_count": 46,
   "metadata": {},
   "outputs": [
    {
     "data": {
      "text/plain": [
       "9"
      ]
     },
     "execution_count": 46,
     "metadata": {},
     "output_type": "execute_result"
    }
   ],
   "source": [
    "# Total number of station\n",
    "session.query(Measurements).group_by(Measurements.station).count()"
   ]
  },
  {
   "cell_type": "code",
   "execution_count": 55,
   "metadata": {},
   "outputs": [
    {
     "name": "stdout",
     "output_type": "stream",
     "text": [
      "[('USC00519281', 2772), ('USC00513117', 2696), ('USC00519397', 2685), ('USC00519523', 2572), ('USC00516128', 2484), ('USC00514830', 1937), ('USC00511918', 1932), ('USC00517948', 683), ('USC00518838', 342)]\n"
     ]
    }
   ],
   "source": [
    "# List the stations and observation counts in descending order\n",
    "busy_station = engine.execute('SELECT station, count(*) FROM measurements group by station order by count(*) desc').fetchall()\n",
    "print(busy_station)"
   ]
  },
  {
   "cell_type": "code",
   "execution_count": 52,
   "metadata": {},
   "outputs": [
    {
     "data": {
      "text/plain": [
       "[('USC00519281', 2772)]"
      ]
     },
     "execution_count": 52,
     "metadata": {},
     "output_type": "execute_result"
    }
   ],
   "source": [
    "# Which station has the highest number of observations?\n",
    "engine.execute('SELECT station, count(*) FROM measurements group by station order by count(*) desc LIMIT 1').fetchall()"
   ]
  },
  {
   "cell_type": "code",
   "execution_count": 57,
   "metadata": {},
   "outputs": [
    {
     "data": {
      "text/plain": [
       "'USC00519281'"
      ]
     },
     "execution_count": 57,
     "metadata": {},
     "output_type": "execute_result"
    }
   ],
   "source": [
    "busiest = busy_station[0][0]\n",
    "busiest"
   ]
  },
  {
   "cell_type": "code",
   "execution_count": null,
   "metadata": {
    "collapsed": true
   },
   "outputs": [],
   "source": []
  },
  {
   "cell_type": "code",
   "execution_count": 62,
   "metadata": {},
   "outputs": [
    {
     "data": {
      "text/plain": [
       "[('USC00519281', '2016-08-24', 77),\n",
       " ('USC00519281', '2016-08-25', 80),\n",
       " ('USC00519281', '2016-08-26', 80),\n",
       " ('USC00519281', '2016-08-27', 75),\n",
       " ('USC00519281', '2016-08-28', 73),\n",
       " ('USC00519281', '2016-08-29', 78),\n",
       " ('USC00519281', '2016-08-30', 77),\n",
       " ('USC00519281', '2016-08-31', 78),\n",
       " ('USC00519281', '2016-09-01', 80),\n",
       " ('USC00519281', '2016-09-02', 80),\n",
       " ('USC00519281', '2016-09-03', 78),\n",
       " ('USC00519281', '2016-09-04', 78),\n",
       " ('USC00519281', '2016-09-05', 78),\n",
       " ('USC00519281', '2016-09-06', 73),\n",
       " ('USC00519281', '2016-09-07', 74),\n",
       " ('USC00519281', '2016-09-08', 80),\n",
       " ('USC00519281', '2016-09-09', 79),\n",
       " ('USC00519281', '2016-09-10', 77),\n",
       " ('USC00519281', '2016-09-11', 80),\n",
       " ('USC00519281', '2016-09-12', 76),\n",
       " ('USC00519281', '2016-09-13', 79),\n",
       " ('USC00519281', '2016-09-14', 75),\n",
       " ('USC00519281', '2016-09-15', 79),\n",
       " ('USC00519281', '2016-09-16', 78),\n",
       " ('USC00519281', '2016-09-17', 79),\n",
       " ('USC00519281', '2016-09-18', 78),\n",
       " ('USC00519281', '2016-09-19', 78),\n",
       " ('USC00519281', '2016-09-20', 76),\n",
       " ('USC00519281', '2016-09-21', 74),\n",
       " ('USC00519281', '2016-09-22', 77),\n",
       " ('USC00519281', '2016-09-23', 78),\n",
       " ('USC00519281', '2016-09-24', 79),\n",
       " ('USC00519281', '2016-09-25', 79),\n",
       " ('USC00519281', '2016-09-26', 77),\n",
       " ('USC00519281', '2016-09-27', 80),\n",
       " ('USC00519281', '2016-09-28', 78),\n",
       " ('USC00519281', '2016-09-29', 78),\n",
       " ('USC00519281', '2016-09-30', 78),\n",
       " ('USC00519281', '2016-10-01', 77),\n",
       " ('USC00519281', '2016-10-02', 79),\n",
       " ('USC00519281', '2016-10-03', 79),\n",
       " ('USC00519281', '2016-10-04', 79),\n",
       " ('USC00519281', '2016-10-05', 79),\n",
       " ('USC00519281', '2016-10-06', 75),\n",
       " ('USC00519281', '2016-10-07', 76),\n",
       " ('USC00519281', '2016-10-08', 73),\n",
       " ('USC00519281', '2016-10-09', 72),\n",
       " ('USC00519281', '2016-10-10', 71),\n",
       " ('USC00519281', '2016-10-11', 77),\n",
       " ('USC00519281', '2016-10-12', 79),\n",
       " ('USC00519281', '2016-10-13', 78),\n",
       " ('USC00519281', '2016-10-14', 79),\n",
       " ('USC00519281', '2016-10-15', 77),\n",
       " ('USC00519281', '2016-10-16', 79),\n",
       " ('USC00519281', '2016-10-17', 77),\n",
       " ('USC00519281', '2016-10-18', 78),\n",
       " ('USC00519281', '2016-10-19', 78),\n",
       " ('USC00519281', '2016-10-20', 78),\n",
       " ('USC00519281', '2016-10-21', 78),\n",
       " ('USC00519281', '2016-10-22', 77),\n",
       " ('USC00519281', '2016-10-23', 74),\n",
       " ('USC00519281', '2016-10-24', 75),\n",
       " ('USC00519281', '2016-10-25', 76),\n",
       " ('USC00519281', '2016-10-26', 73),\n",
       " ('USC00519281', '2016-10-27', 76),\n",
       " ('USC00519281', '2016-10-28', 74),\n",
       " ('USC00519281', '2016-10-29', 77),\n",
       " ('USC00519281', '2016-10-30', 76),\n",
       " ('USC00519281', '2016-10-31', 76),\n",
       " ('USC00519281', '2016-11-01', 74),\n",
       " ('USC00519281', '2016-11-02', 75),\n",
       " ('USC00519281', '2016-11-03', 75),\n",
       " ('USC00519281', '2016-11-04', 75),\n",
       " ('USC00519281', '2016-11-05', 75),\n",
       " ('USC00519281', '2016-11-06', 71),\n",
       " ('USC00519281', '2016-11-07', 63),\n",
       " ('USC00519281', '2016-11-08', 70),\n",
       " ('USC00519281', '2016-11-09', 68),\n",
       " ('USC00519281', '2016-11-10', 67),\n",
       " ('USC00519281', '2016-11-11', 77),\n",
       " ('USC00519281', '2016-11-12', 74),\n",
       " ('USC00519281', '2016-11-13', 77),\n",
       " ('USC00519281', '2016-11-14', 76),\n",
       " ('USC00519281', '2016-11-15', 76),\n",
       " ('USC00519281', '2016-11-16', 75),\n",
       " ('USC00519281', '2016-11-17', 76),\n",
       " ('USC00519281', '2016-11-18', 75),\n",
       " ('USC00519281', '2016-11-19', 73),\n",
       " ('USC00519281', '2016-11-20', 75),\n",
       " ('USC00519281', '2016-11-21', 73),\n",
       " ('USC00519281', '2016-11-22', 75),\n",
       " ('USC00519281', '2016-11-23', 74),\n",
       " ('USC00519281', '2016-11-24', 75),\n",
       " ('USC00519281', '2016-11-25', 74),\n",
       " ('USC00519281', '2016-11-26', 75),\n",
       " ('USC00519281', '2016-11-27', 73),\n",
       " ('USC00519281', '2016-11-28', 75),\n",
       " ('USC00519281', '2016-11-29', 73),\n",
       " ('USC00519281', '2016-11-30', 73),\n",
       " ('USC00519281', '2016-12-01', 74),\n",
       " ('USC00519281', '2016-12-02', 70),\n",
       " ('USC00519281', '2016-12-03', 72),\n",
       " ('USC00519281', '2016-12-04', 70),\n",
       " ('USC00519281', '2016-12-05', 67),\n",
       " ('USC00519281', '2016-12-06', 67),\n",
       " ('USC00519281', '2016-12-07', 69),\n",
       " ('USC00519281', '2016-12-08', 70),\n",
       " ('USC00519281', '2016-12-09', 68),\n",
       " ('USC00519281', '2016-12-10', 69),\n",
       " ('USC00519281', '2016-12-11', 69),\n",
       " ('USC00519281', '2016-12-12', 66),\n",
       " ('USC00519281', '2016-12-13', 65),\n",
       " ('USC00519281', '2016-12-14', 68),\n",
       " ('USC00519281', '2016-12-15', 62),\n",
       " ('USC00519281', '2016-12-16', 75),\n",
       " ('USC00519281', '2016-12-17', 70),\n",
       " ('USC00519281', '2016-12-18', 69),\n",
       " ('USC00519281', '2016-12-19', 76),\n",
       " ('USC00519281', '2016-12-20', 76),\n",
       " ('USC00519281', '2016-12-21', 74),\n",
       " ('USC00519281', '2016-12-22', 73),\n",
       " ('USC00519281', '2016-12-23', 71),\n",
       " ('USC00519281', '2016-12-24', 74),\n",
       " ('USC00519281', '2016-12-25', 74),\n",
       " ('USC00519281', '2016-12-26', 72),\n",
       " ('USC00519281', '2016-12-27', 71),\n",
       " ('USC00519281', '2016-12-28', 72),\n",
       " ('USC00519281', '2016-12-29', 74),\n",
       " ('USC00519281', '2016-12-30', 69),\n",
       " ('USC00519281', '2016-12-31', 67),\n",
       " ('USC00519281', '2017-01-01', 72),\n",
       " ('USC00519281', '2017-01-02', 70),\n",
       " ('USC00519281', '2017-01-03', 64),\n",
       " ('USC00519281', '2017-01-04', 63),\n",
       " ('USC00519281', '2017-01-05', 63),\n",
       " ('USC00519281', '2017-01-06', 62),\n",
       " ('USC00519281', '2017-01-07', 70),\n",
       " ('USC00519281', '2017-01-08', 70),\n",
       " ('USC00519281', '2017-01-09', 62),\n",
       " ('USC00519281', '2017-01-10', 62),\n",
       " ('USC00519281', '2017-01-11', 63),\n",
       " ('USC00519281', '2017-01-12', 65),\n",
       " ('USC00519281', '2017-01-13', 69),\n",
       " ('USC00519281', '2017-01-14', 77),\n",
       " ('USC00519281', '2017-01-15', 70),\n",
       " ('USC00519281', '2017-01-16', 74),\n",
       " ('USC00519281', '2017-01-17', 69),\n",
       " ('USC00519281', '2017-01-18', 72),\n",
       " ('USC00519281', '2017-01-19', 71),\n",
       " ('USC00519281', '2017-01-20', 69),\n",
       " ('USC00519281', '2017-01-21', 71),\n",
       " ('USC00519281', '2017-01-22', 71),\n",
       " ('USC00519281', '2017-01-23', 72),\n",
       " ('USC00519281', '2017-01-24', 72),\n",
       " ('USC00519281', '2017-01-25', 69),\n",
       " ('USC00519281', '2017-01-26', 70),\n",
       " ('USC00519281', '2017-01-27', 66),\n",
       " ('USC00519281', '2017-01-28', 65),\n",
       " ('USC00519281', '2017-01-29', 69),\n",
       " ('USC00519281', '2017-01-30', 68),\n",
       " ('USC00519281', '2017-01-31', 68),\n",
       " ('USC00519281', '2017-02-01', 68),\n",
       " ('USC00519281', '2017-02-02', 59),\n",
       " ('USC00519281', '2017-02-03', 60),\n",
       " ('USC00519281', '2017-02-04', 70),\n",
       " ('USC00519281', '2017-02-05', 73),\n",
       " ('USC00519281', '2017-02-06', 75),\n",
       " ('USC00519281', '2017-02-07', 64),\n",
       " ('USC00519281', '2017-02-08', 59),\n",
       " ('USC00519281', '2017-02-09', 59),\n",
       " ('USC00519281', '2017-02-10', 62),\n",
       " ('USC00519281', '2017-02-11', 68),\n",
       " ('USC00519281', '2017-02-12', 70),\n",
       " ('USC00519281', '2017-02-13', 73),\n",
       " ('USC00519281', '2017-02-14', 79),\n",
       " ('USC00519281', '2017-02-15', 75),\n",
       " ('USC00519281', '2017-02-16', 65),\n",
       " ('USC00519281', '2017-02-17', 70),\n",
       " ('USC00519281', '2017-02-18', 74),\n",
       " ('USC00519281', '2017-02-19', 70),\n",
       " ('USC00519281', '2017-02-20', 70),\n",
       " ('USC00519281', '2017-02-21', 71),\n",
       " ('USC00519281', '2017-02-22', 71),\n",
       " ('USC00519281', '2017-02-23', 71),\n",
       " ('USC00519281', '2017-02-24', 69),\n",
       " ('USC00519281', '2017-02-25', 61),\n",
       " ('USC00519281', '2017-02-26', 67),\n",
       " ('USC00519281', '2017-02-27', 65),\n",
       " ('USC00519281', '2017-02-28', 72),\n",
       " ('USC00519281', '2017-03-01', 71),\n",
       " ('USC00519281', '2017-03-02', 73),\n",
       " ('USC00519281', '2017-03-03', 72),\n",
       " ('USC00519281', '2017-03-04', 77),\n",
       " ('USC00519281', '2017-03-05', 73),\n",
       " ('USC00519281', '2017-03-06', 67),\n",
       " ('USC00519281', '2017-03-07', 62),\n",
       " ('USC00519281', '2017-03-08', 64),\n",
       " ('USC00519281', '2017-03-09', 67),\n",
       " ('USC00519281', '2017-03-10', 66),\n",
       " ('USC00519281', '2017-03-11', 81),\n",
       " ('USC00519281', '2017-03-12', 69),\n",
       " ('USC00519281', '2017-03-13', 66),\n",
       " ('USC00519281', '2017-03-14', 67),\n",
       " ('USC00519281', '2017-03-15', 69),\n",
       " ('USC00519281', '2017-03-16', 66),\n",
       " ('USC00519281', '2017-03-17', 68),\n",
       " ('USC00519281', '2017-03-18', 65),\n",
       " ('USC00519281', '2017-03-19', 74),\n",
       " ('USC00519281', '2017-03-20', 69),\n",
       " ('USC00519281', '2017-03-21', 72),\n",
       " ('USC00519281', '2017-03-22', 73),\n",
       " ('USC00519281', '2017-03-23', 72),\n",
       " ('USC00519281', '2017-03-24', 71),\n",
       " ('USC00519281', '2017-03-25', 76),\n",
       " ('USC00519281', '2017-03-26', 77),\n",
       " ('USC00519281', '2017-03-27', 76),\n",
       " ('USC00519281', '2017-03-28', 74),\n",
       " ('USC00519281', '2017-03-29', 68),\n",
       " ('USC00519281', '2017-03-30', 73),\n",
       " ('USC00519281', '2017-03-31', 71),\n",
       " ('USC00519281', '2017-04-01', 74),\n",
       " ('USC00519281', '2017-04-02', 75),\n",
       " ('USC00519281', '2017-04-03', 70),\n",
       " ('USC00519281', '2017-04-04', 67),\n",
       " ('USC00519281', '2017-04-05', 71),\n",
       " ('USC00519281', '2017-04-06', 67),\n",
       " ('USC00519281', '2017-04-07', 74),\n",
       " ('USC00519281', '2017-04-08', 77),\n",
       " ('USC00519281', '2017-04-09', 78),\n",
       " ('USC00519281', '2017-04-10', 67),\n",
       " ('USC00519281', '2017-04-11', 70),\n",
       " ('USC00519281', '2017-04-12', 69),\n",
       " ('USC00519281', '2017-04-13', 69),\n",
       " ('USC00519281', '2017-04-14', 74),\n",
       " ('USC00519281', '2017-04-15', 78),\n",
       " ('USC00519281', '2017-04-16', 71),\n",
       " ('USC00519281', '2017-04-17', 67),\n",
       " ('USC00519281', '2017-04-18', 68),\n",
       " ('USC00519281', '2017-04-19', 67),\n",
       " ('USC00519281', '2017-04-20', 76),\n",
       " ('USC00519281', '2017-04-21', 69),\n",
       " ('USC00519281', '2017-04-22', 72),\n",
       " ('USC00519281', '2017-04-23', 76),\n",
       " ('USC00519281', '2017-04-24', 68),\n",
       " ('USC00519281', '2017-04-25', 72),\n",
       " ('USC00519281', '2017-04-26', 74),\n",
       " ('USC00519281', '2017-04-27', 70),\n",
       " ('USC00519281', '2017-04-28', 67),\n",
       " ('USC00519281', '2017-04-29', 72),\n",
       " ('USC00519281', '2017-04-30', 60),\n",
       " ('USC00519281', '2017-05-01', 65),\n",
       " ('USC00519281', '2017-05-02', 75),\n",
       " ('USC00519281', '2017-05-03', 70),\n",
       " ('USC00519281', '2017-05-04', 75),\n",
       " ('USC00519281', '2017-05-05', 70),\n",
       " ('USC00519281', '2017-05-06', 79),\n",
       " ('USC00519281', '2017-05-07', 75),\n",
       " ('USC00519281', '2017-05-08', 70),\n",
       " ('USC00519281', '2017-05-09', 67),\n",
       " ('USC00519281', '2017-05-10', 74),\n",
       " ('USC00519281', '2017-05-11', 70),\n",
       " ('USC00519281', '2017-05-12', 75),\n",
       " ('USC00519281', '2017-05-13', 76),\n",
       " ('USC00519281', '2017-05-14', 77),\n",
       " ('USC00519281', '2017-05-15', 74),\n",
       " ('USC00519281', '2017-05-16', 74),\n",
       " ('USC00519281', '2017-05-17', 74),\n",
       " ('USC00519281', '2017-05-18', 69),\n",
       " ('USC00519281', '2017-05-19', 68),\n",
       " ('USC00519281', '2017-05-20', 76),\n",
       " ('USC00519281', '2017-05-21', 74),\n",
       " ('USC00519281', '2017-05-22', 71),\n",
       " ('USC00519281', '2017-05-23', 71),\n",
       " ('USC00519281', '2017-05-24', 74),\n",
       " ('USC00519281', '2017-05-25', 74),\n",
       " ('USC00519281', '2017-05-26', 74),\n",
       " ('USC00519281', '2017-05-27', 74),\n",
       " ('USC00519281', '2017-05-28', 80),\n",
       " ('USC00519281', '2017-05-29', 74),\n",
       " ('USC00519281', '2017-05-30', 72),\n",
       " ('USC00519281', '2017-05-31', 75),\n",
       " ('USC00519281', '2017-06-01', 80),\n",
       " ('USC00519281', '2017-06-02', 76),\n",
       " ('USC00519281', '2017-06-03', 76),\n",
       " ('USC00519281', '2017-06-04', 77),\n",
       " ('USC00519281', '2017-06-05', 75),\n",
       " ('USC00519281', '2017-06-06', 75),\n",
       " ('USC00519281', '2017-06-07', 75),\n",
       " ('USC00519281', '2017-06-08', 75),\n",
       " ('USC00519281', '2017-06-09', 72),\n",
       " ('USC00519281', '2017-06-10', 74),\n",
       " ('USC00519281', '2017-06-11', 74),\n",
       " ('USC00519281', '2017-06-12', 74),\n",
       " ('USC00519281', '2017-06-13', 76),\n",
       " ('USC00519281', '2017-06-14', 74),\n",
       " ('USC00519281', '2017-06-15', 75),\n",
       " ('USC00519281', '2017-06-16', 73),\n",
       " ('USC00519281', '2017-06-17', 79),\n",
       " ('USC00519281', '2017-06-18', 75),\n",
       " ('USC00519281', '2017-06-19', 72),\n",
       " ('USC00519281', '2017-06-20', 72),\n",
       " ('USC00519281', '2017-06-21', 74),\n",
       " ('USC00519281', '2017-06-22', 72),\n",
       " ('USC00519281', '2017-06-23', 72),\n",
       " ('USC00519281', '2017-06-24', 77),\n",
       " ('USC00519281', '2017-06-25', 71),\n",
       " ('USC00519281', '2017-06-26', 73),\n",
       " ('USC00519281', '2017-06-27', 76),\n",
       " ('USC00519281', '2017-06-28', 77),\n",
       " ('USC00519281', '2017-06-29', 76),\n",
       " ('USC00519281', '2017-06-30', 76),\n",
       " ('USC00519281', '2017-07-01', 79),\n",
       " ('USC00519281', '2017-07-02', 81),\n",
       " ('USC00519281', '2017-07-03', 76),\n",
       " ('USC00519281', '2017-07-04', 78),\n",
       " ('USC00519281', '2017-07-05', 77),\n",
       " ('USC00519281', '2017-07-06', 74),\n",
       " ('USC00519281', '2017-07-07', 75),\n",
       " ('USC00519281', '2017-07-08', 78),\n",
       " ('USC00519281', '2017-07-09', 78),\n",
       " ('USC00519281', '2017-07-10', 69),\n",
       " ('USC00519281', '2017-07-11', 72),\n",
       " ('USC00519281', '2017-07-12', 74),\n",
       " ('USC00519281', '2017-07-13', 74),\n",
       " ('USC00519281', '2017-07-14', 76),\n",
       " ('USC00519281', '2017-07-15', 80),\n",
       " ('USC00519281', '2017-07-16', 80),\n",
       " ('USC00519281', '2017-07-17', 76),\n",
       " ('USC00519281', '2017-07-18', 76),\n",
       " ('USC00519281', '2017-07-19', 76),\n",
       " ('USC00519281', '2017-07-20', 77),\n",
       " ('USC00519281', '2017-07-21', 77),\n",
       " ('USC00519281', '2017-07-22', 77),\n",
       " ('USC00519281', '2017-07-23', 82),\n",
       " ('USC00519281', '2017-07-24', 75),\n",
       " ('USC00519281', '2017-07-25', 77),\n",
       " ('USC00519281', '2017-07-26', 75),\n",
       " ('USC00519281', '2017-07-27', 76),\n",
       " ('USC00519281', '2017-07-28', 81),\n",
       " ('USC00519281', '2017-07-29', 82),\n",
       " ('USC00519281', '2017-07-30', 81),\n",
       " ('USC00519281', '2017-07-31', 76),\n",
       " ('USC00519281', '2017-08-04', 77),\n",
       " ('USC00519281', '2017-08-05', 82),\n",
       " ('USC00519281', '2017-08-06', 83),\n",
       " ('USC00519281', '2017-08-13', 77),\n",
       " ('USC00519281', '2017-08-14', 77),\n",
       " ('USC00519281', '2017-08-15', 77),\n",
       " ('USC00519281', '2017-08-16', 76),\n",
       " ('USC00519281', '2017-08-17', 76),\n",
       " ('USC00519281', '2017-08-18', 79)]"
      ]
     },
     "execution_count": 62,
     "metadata": {},
     "output_type": "execute_result"
    }
   ],
   "source": [
    "# query to pull the last year of precipitation data for the busiest station\n",
    "temperature = session.query(Measurements.station, Measurements.date, Measurements.tobs).\\\n",
    "    filter(Measurements.station == busiest).\\\n",
    "    filter(Measurements.date > last_year_dt).\\\n",
    "    order_by(Measurements.date).all()\n",
    "temperature"
   ]
  },
  {
   "cell_type": "code",
   "execution_count": 63,
   "metadata": {},
   "outputs": [
    {
     "data": {
      "image/png": "[encoded data removed]",
      "text/plain": [
       "<matplotlib.figure.Figure at 0xbddea90>"
      ]
     },
     "metadata": {},
     "output_type": "display_data"
    }
   ],
   "source": [
    "# plot the temperature data in a histogram with 12 bins\n",
    "temp_df=pd.DataFrame(temperature)\n",
    "plt.hist(temp_df['tobs'],12)\n",
    "plt.xlabel(\"Temperature\")\n",
    "plt.ylabel(\"Number of Observations\")\n",
    "plt.title(\"Station Analysis \" + busiest)\n",
    "plt.show()"
   ]
  },
  {
   "cell_type": "code",
   "execution_count": 69,
   "metadata": {},
   "outputs": [],
   "source": [
    "# Temperature Analysis"
   ]
  },
  {
   "cell_type": "code",
   "execution_count": 77,
   "metadata": {},
   "outputs": [
    {
     "name": "stdout",
     "output_type": "stream",
     "text": [
      "[(60, 69.43697478991596, 80)]\n"
     ]
    }
   ],
   "source": [
    "# Write a function called `calc_temps` that will accept start date and end date in the format '%Y-%m-%d' \n",
    "# and return the minimum, average, and maximum temperatures for that range of dates\n",
    "def calc_temps(start_date, end_date):\n",
    "    return session.query(func.min(Measurements.tobs), func.avg(Measurements.tobs), func.max(Measurements.tobs)).\\\n",
    "        filter(Measurements.date >= start_date).filter(Measurements.date <= end_date).all()\n",
    "    \n",
    "    \n",
    "temp_range = (calc_temps('2017-01-01', '2017-01-22'))\n",
    "print(temp_range)"
   ]
  },
  {
   "cell_type": "code",
   "execution_count": 87,
   "metadata": {},
   "outputs": [
    {
     "name": "stdout",
     "output_type": "stream",
     "text": [
      "[(60, 69.43697478991596, 80)]\n"
     ]
    }
   ],
   "source": [
    "# calculate the min/max/avg from last year that matches my trip date\n",
    "arrive = dt.date(2018, 1, 1)\n",
    "leave = dt.date(2018, 1, 22)\n",
    "last_year = dt.timedelta(days=365)\n",
    "temp_range_last_year = (calc_temps((arrive-last_year), (leave-last_year)))\n",
    "print(temp_range_last_year)"
   ]
  },
  {
   "cell_type": "code",
   "execution_count": 88,
   "metadata": {
    "scrolled": true
   },
   "outputs": [
    {
     "data": {
      "image/png": "[encoded data removed]",
      "text/plain": [
       "<matplotlib.figure.Figure at 0xd9690b8>"
      ]
     },
     "metadata": {},
     "output_type": "display_data"
    }
   ],
   "source": [
    "# plot the calculated min/max/avg from last year for the trip dates as a bar chart\n",
    "\n",
    "peak_to_peak = temp_range_last_year[0][2]-temp_range_last_year[0][0]\n",
    "avg_temp = temp_range_last_year[0][1]\n",
    "min_temp = temp_range_last_year[0][0]\n",
    "max_temp = temp_range_last_year[0][2]\n",
    "\n",
    "fig, ax = plt.subplots()\n",
    "bar_chart = ax.bar(1 , avg_temp, yerr=peak_to_peak)\n",
    "ax.set_xlabel(\"Trip\")\n",
    "ax.set_ylabel(\"Temperature\")\n",
    "ax.set_title(\"Average Temperature of Last Year\")\n",
    "\n",
    "def autolabels(rects):\n",
    "    for rect in rects:\n",
    "        h=rect.get_height()\n",
    "        ax.text(rect.get_x() + rect.get_width()/2., .6*h,'%.2f' % float(h) ,ha='center', va='bottom', fontsize=10)\n",
    "\n",
    "        \n",
    "    # label the bars \n",
    "autolabels(bar_chart)        \n",
    "plt.ylim(0, 100)\n",
    "plt.xlim(0,2)\n",
    "plt.show()"
   ]
  },
  {
   "cell_type": "code",
   "execution_count": null,
   "metadata": {
    "collapsed": true
   },
   "outputs": [],
   "source": []
  }
 ],
 "metadata": {
  "kernelspec": {
   "display_name": "Python 3",
   "language": "python",
   "name": "python3"
  },
  "language_info": {
   "codemirror_mode": {
    "name": "ipython",
    "version": 3
   },
   "file_extension": ".py",
   "mimetype": "text/x-python",
   "name": "python",
   "nbconvert_exporter": "python",
   "pygments_lexer": "ipython3",
   "version": "3.6.3"
  }
 },
 "nbformat": 4,
 "nbformat_minor": 2
}
